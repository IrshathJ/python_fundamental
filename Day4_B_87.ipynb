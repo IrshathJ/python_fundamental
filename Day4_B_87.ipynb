{
 "cells": [
  {
   "cell_type": "code",
   "execution_count": null,
   "id": "aac7ecdb-e329-40c8-83b2-a029b72b9e92",
   "metadata": {},
   "outputs": [],
   "source": [
    "Introduction to List Datatype::"
   ]
  },
  {
   "cell_type": "code",
   "execution_count": null,
   "id": "c2339eda-af15-45c5-aa24-1d56d000186b",
   "metadata": {},
   "outputs": [],
   "source": [
    "Definition: A List is a collection of items declared in a particular order\n",
    "Classification: It is Classified as Mutable Datatype\n",
    "Declaration: [ ]"
   ]
  },
  {
   "cell_type": "code",
   "execution_count": 5,
   "id": "2214f044-80c0-481f-8642-004a1fb59b91",
   "metadata": {},
   "outputs": [
    {
     "name": "stdout",
     "output_type": "stream",
     "text": [
      "['mohamed', 'irshath', 'jega', 'siva']\n"
     ]
    }
   ],
   "source": [
    "Students = ['mohamed', 'irshath', 'jega', 'siva']\n",
    "print(Students)\n"
   ]
  },
  {
   "cell_type": "code",
   "execution_count": null,
   "id": "67dce069-7257-4560-9b55-298d1a49ca74",
   "metadata": {},
   "outputs": [],
   "source": [
    "Introduction to Indexing : 0,1,2,3,...n"
   ]
  },
  {
   "cell_type": "code",
   "execution_count": null,
   "id": "fac49955-be46-4ded-a14a-97bbdce63063",
   "metadata": {},
   "outputs": [],
   "source": [
    "#Access Element from the list"
   ]
  },
  {
   "cell_type": "code",
   "execution_count": 12,
   "id": "bd99e6d6-5753-4b53-ab6c-39339a74c7a3",
   "metadata": {},
   "outputs": [
    {
     "name": "stdout",
     "output_type": "stream",
     "text": [
      "Jega\n"
     ]
    }
   ],
   "source": [
    "print(Students[2].title())"
   ]
  },
  {
   "cell_type": "code",
   "execution_count": null,
   "id": "e51eee62-afde-4a54-8e19-d24b20228f96",
   "metadata": {},
   "outputs": [],
   "source": [
    "Add new element to the list ==> use append('elementName')\n",
    "modify element in the list ==> change the element you want to change in the index\n",
    "delete element from the list ==> use del and the index of the element need to be deleted"
   ]
  },
  {
   "cell_type": "code",
   "execution_count": 29,
   "id": "e4f642e9-28f9-4266-9833-590f28244358",
   "metadata": {},
   "outputs": [
    {
     "name": "stdout",
     "output_type": "stream",
     "text": [
      "['mohamed', 'irshath', 'jega', 'siva', 'Kaavs']\n"
     ]
    }
   ],
   "source": [
    "Students.append('Kaavs')\n",
    "print(Students)"
   ]
  },
  {
   "cell_type": "code",
   "execution_count": 35,
   "id": "b9e2c78a-53c7-4cc0-9780-1f1535c9efdf",
   "metadata": {},
   "outputs": [],
   "source": [
    "Students.insert(1,'tamil')"
   ]
  },
  {
   "cell_type": "code",
   "execution_count": 39,
   "id": "c5917a01-4f36-48a5-b3f7-e8ce51f9b10e",
   "metadata": {},
   "outputs": [
    {
     "name": "stdout",
     "output_type": "stream",
     "text": [
      "['mohamed', 'tamil', 'irshath', 'jega', 'siva', 'Kaavs']\n"
     ]
    }
   ],
   "source": [
    "print(Students)"
   ]
  },
  {
   "cell_type": "code",
   "execution_count": null,
   "id": "5cec3c1f-e53a-40a2-b7dd-0fefa68d7ae9",
   "metadata": {},
   "outputs": [],
   "source": [
    "Note: append==> add element at last of the List\n",
    "      insert==> add elemet at the position where we wanted to add"
   ]
  },
  {
   "cell_type": "code",
   "execution_count": null,
   "id": "46615621-c975-4e9d-aec0-b0b2820dc01c",
   "metadata": {},
   "outputs": [],
   "source": [
    "#Modidy the name in the list:"
   ]
  },
  {
   "cell_type": "code",
   "execution_count": 41,
   "id": "53ba6ea0-57ce-4e02-86d0-236a73fcaea7",
   "metadata": {},
   "outputs": [
    {
     "name": "stdout",
     "output_type": "stream",
     "text": [
      "['mohamed', 'tamil', 'saf', 'jega', 'siva', 'Kaavs']\n"
     ]
    }
   ],
   "source": [
    "Students[2] = 'saf'\n",
    "print(Students)"
   ]
  },
  {
   "cell_type": "code",
   "execution_count": null,
   "id": "8431dc24-3dec-4b6a-83a6-c4935795a884",
   "metadata": {},
   "outputs": [],
   "source": [
    "#Delete Element in the list:"
   ]
  },
  {
   "cell_type": "code",
   "execution_count": 45,
   "id": "dc2e86a5-4f68-4cfc-8d40-2b971775b5ce",
   "metadata": {},
   "outputs": [
    {
     "ename": "AttributeError",
     "evalue": "'str' object has no attribute 'delete'",
     "output_type": "error",
     "traceback": [
      "\u001b[1;31m---------------------------------------------------------------------------\u001b[0m",
      "\u001b[1;31mAttributeError\u001b[0m                            Traceback (most recent call last)",
      "Cell \u001b[1;32mIn[45], line 1\u001b[0m\n\u001b[1;32m----> 1\u001b[0m Students[\u001b[38;5;241m2\u001b[39m]\u001b[38;5;241m.\u001b[39mdelete\n\u001b[0;32m      2\u001b[0m \u001b[38;5;28mprint\u001b[39m(Students)\n",
      "\u001b[1;31mAttributeError\u001b[0m: 'str' object has no attribute 'delete'"
     ]
    }
   ],
   "source": [
    "Students[2].delete\n",
    "print(Students)"
   ]
  },
  {
   "cell_type": "code",
   "execution_count": 47,
   "id": "23cb5369-a918-43ff-a538-fc2bf9882e2b",
   "metadata": {},
   "outputs": [
    {
     "name": "stdout",
     "output_type": "stream",
     "text": [
      "['mohamed', 'tamil', 'jega', 'siva', 'Kaavs']\n"
     ]
    }
   ],
   "source": [
    "del Students[2]\n",
    "print(Students)"
   ]
  }
 ],
 "metadata": {
  "kernelspec": {
   "display_name": "Python 3 (ipykernel)",
   "language": "python",
   "name": "python3"
  },
  "language_info": {
   "codemirror_mode": {
    "name": "ipython",
    "version": 3
   },
   "file_extension": ".py",
   "mimetype": "text/x-python",
   "name": "python",
   "nbconvert_exporter": "python",
   "pygments_lexer": "ipython3",
   "version": "3.12.4"
  }
 },
 "nbformat": 4,
 "nbformat_minor": 5
}
