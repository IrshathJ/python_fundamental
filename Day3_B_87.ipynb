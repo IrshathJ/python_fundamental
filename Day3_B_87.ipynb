{
 "cells": [
  {
   "cell_type": "code",
   "execution_count": null,
   "id": "3116028b-78d0-44c6-ae44-9d423f6df843",
   "metadata": {},
   "outputs": [],
   "source": [
    "Continuation with Python Programming::"
   ]
  },
  {
   "cell_type": "code",
   "execution_count": null,
   "id": "377e8d75-caa0-4508-802c-5fd2d08882d4",
   "metadata": {},
   "outputs": [],
   "source": [
    "Introduction to f Strings:"
   ]
  },
  {
   "cell_type": "code",
   "execution_count": null,
   "id": "d522472d-8d00-47da-b25e-9bcea99efddc",
   "metadata": {},
   "outputs": [],
   "source": [
    "#general syntax of f strings"
   ]
  },
  {
   "cell_type": "code",
   "execution_count": null,
   "id": "e88ab783-c8fb-4b66-bcce-619576a638f2",
   "metadata": {},
   "outputs": [],
   "source": [
    "f\"customMessage{PlaceHolder_1}{PlaceHolder_2}.....\""
   ]
  },
  {
   "cell_type": "code",
   "execution_count": 1,
   "id": "bb3e2221-7ec3-40c1-8204-f7f8c9b58faa",
   "metadata": {},
   "outputs": [],
   "source": [
    "firstname='mohamed'\n",
    "lastname='irshath'"
   ]
  },
  {
   "cell_type": "code",
   "execution_count": 3,
   "id": "d904d963-167f-466b-8383-54abb8a4cfba",
   "metadata": {},
   "outputs": [],
   "source": [
    "#req: Get Full name"
   ]
  },
  {
   "cell_type": "code",
   "execution_count": 16,
   "id": "efb2f5a1-add3-4e5d-97ab-eac2234a92aa",
   "metadata": {},
   "outputs": [
    {
     "ename": "NameError",
     "evalue": "name 'lastname' is not defined",
     "output_type": "error",
     "traceback": [
      "\u001b[1;31m---------------------------------------------------------------------------\u001b[0m",
      "\u001b[1;31mNameError\u001b[0m                                 Traceback (most recent call last)",
      "Cell \u001b[1;32mIn[16], line 1\u001b[0m\n\u001b[1;32m----> 1\u001b[0m fullname \u001b[38;5;241m=\u001b[39m \u001b[38;5;124mf\u001b[39m\u001b[38;5;124m\"\u001b[39m\u001b[38;5;132;01m{\u001b[39;00mfirstname\u001b[38;5;132;01m}\u001b[39;00m\u001b[38;5;132;01m{\u001b[39;00mlastname\u001b[38;5;132;01m}\u001b[39;00m\u001b[38;5;124m\"\u001b[39m\n",
      "\u001b[1;31mNameError\u001b[0m: name 'lastname' is not defined"
     ]
    }
   ],
   "source": [
    "fullname = f\"{firstname}{lastname}\""
   ]
  },
  {
   "cell_type": "code",
   "execution_count": 51,
   "id": "c8491eb3-ed82-481f-b7d2-3bc31e2d7cd5",
   "metadata": {},
   "outputs": [
    {
     "name": "stdout",
     "output_type": "stream",
     "text": [
      "Good Job! Mohamed Irshath\n"
     ]
    }
   ],
   "source": [
    "firstname = 'mohamed'\n",
    "lastname = 'irshath'\n",
    "fullname = f\"{firstname} {lastname}\"\n",
    "print('Good Job!', fullname.title())"
   ]
  },
  {
   "cell_type": "code",
   "execution_count": null,
   "id": "8ba51083-1bd1-41e0-81df-bceb6cc68b49",
   "metadata": {},
   "outputs": [],
   "source": [
    "Adding white space to string:"
   ]
  },
  {
   "cell_type": "code",
   "execution_count": 26,
   "id": "31540a57-049a-4b6b-838e-6afb2973518b",
   "metadata": {},
   "outputs": [
    {
     "name": "stdout",
     "output_type": "stream",
     "text": [
      "Prograaming Languages: Pythonc++java\n"
     ]
    }
   ],
   "source": [
    "print(\"Prograaming Languages: Pythonc++java\")"
   ]
  },
  {
   "cell_type": "code",
   "execution_count": 30,
   "id": "4d79f38a-91ba-42bc-af22-3f8388ad0eb4",
   "metadata": {},
   "outputs": [
    {
     "name": "stdout",
     "output_type": "stream",
     "text": [
      "Prograaming Languages: \n",
      "Python\n",
      "c++\n",
      "java\n"
     ]
    }
   ],
   "source": [
    "print(\"Prograaming Languages: \\nPython\\nc++\\njava\")"
   ]
  },
  {
   "cell_type": "code",
   "execution_count": 32,
   "id": "4194919c-90f7-45c8-ae2b-30525386cf82",
   "metadata": {},
   "outputs": [
    {
     "name": "stdout",
     "output_type": "stream",
     "text": [
      "Prograaming Languages: \n",
      "\tPython\n",
      "\tc++\n",
      "\tjava\n"
     ]
    }
   ],
   "source": [
    "print(\"Prograaming Languages: \\n\\tPython\\n\\tc++\\n\\tjava\")"
   ]
  },
  {
   "cell_type": "code",
   "execution_count": null,
   "id": "126e8733-17b3-4d1f-a991-6dc5077066cf",
   "metadata": {},
   "outputs": [],
   "source": [
    "\\n ==> new line\n",
    "\\t ==> tab delimitter"
   ]
  },
  {
   "cell_type": "code",
   "execution_count": null,
   "id": "8827811d-9b1e-46e0-8dce-8a6333ba9e63",
   "metadata": {},
   "outputs": [],
   "source": [
    "Removing whitespace from strings:"
   ]
  },
  {
   "cell_type": "code",
   "execution_count": 37,
   "id": "018d99bc-e799-44cf-8645-4b1a60099049",
   "metadata": {},
   "outputs": [
    {
     "name": "stdout",
     "output_type": "stream",
     "text": [
      "  python\n",
      "python\n",
      "python   \n"
     ]
    }
   ],
   "source": [
    "name1='  python'\n",
    "name2='python'\n",
    "name3='python   '\n",
    "print(name1)\n",
    "print(name2)\n",
    "print(name3)"
   ]
  },
  {
   "cell_type": "code",
   "execution_count": 41,
   "id": "ebfbeba6-704e-4548-be1c-3fae628b41e7",
   "metadata": {},
   "outputs": [
    {
     "data": {
      "text/plain": [
       "'python'"
      ]
     },
     "execution_count": 41,
     "metadata": {},
     "output_type": "execute_result"
    }
   ],
   "source": [
    "name1.lstrip()"
   ]
  },
  {
   "cell_type": "code",
   "execution_count": 45,
   "id": "1578dff6-10cf-4e8a-b6b7-ba6902e2e667",
   "metadata": {},
   "outputs": [
    {
     "data": {
      "text/plain": [
       "'python'"
      ]
     },
     "execution_count": 45,
     "metadata": {},
     "output_type": "execute_result"
    }
   ],
   "source": [
    "name3.rstrip()"
   ]
  },
  {
   "cell_type": "code",
   "execution_count": null,
   "id": "71de7f04-336c-4139-a3ab-dfe448c82a47",
   "metadata": {},
   "outputs": [],
   "source": []
  },
  {
   "cell_type": "code",
   "execution_count": null,
   "id": "33553176-fb9b-4e3b-9143-23756c4ea9da",
   "metadata": {},
   "outputs": [],
   "source": []
  },
  {
   "cell_type": "code",
   "execution_count": null,
   "id": "40c64e06-a26b-4dad-99e9-3e222381d31b",
   "metadata": {},
   "outputs": [],
   "source": []
  },
  {
   "cell_type": "code",
   "execution_count": null,
   "id": "2340f21b-e8d7-4958-998d-decc076458c7",
   "metadata": {},
   "outputs": [],
   "source": []
  }
 ],
 "metadata": {
  "kernelspec": {
   "display_name": "Python 3 (ipykernel)",
   "language": "python",
   "name": "python3"
  },
  "language_info": {
   "codemirror_mode": {
    "name": "ipython",
    "version": 3
   },
   "file_extension": ".py",
   "mimetype": "text/x-python",
   "name": "python",
   "nbconvert_exporter": "python",
   "pygments_lexer": "ipython3",
   "version": "3.12.4"
  }
 },
 "nbformat": 4,
 "nbformat_minor": 5
}
