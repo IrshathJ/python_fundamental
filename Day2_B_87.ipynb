{
 "cells": [
  {
   "cell_type": "code",
   "execution_count": null,
   "id": "0b845637-66ff-4488-ae8b-37b0efdcea53",
   "metadata": {},
   "outputs": [],
   "source": [
    "Introduction to Python Variable"
   ]
  },
  {
   "cell_type": "code",
   "execution_count": 5,
   "id": "ac02b19b-c201-4f0b-8c3f-c0e9936376f5",
   "metadata": {},
   "outputs": [],
   "source": [
    "x=4\n",
    "y=5\n",
    "z=x+y"
   ]
  },
  {
   "cell_type": "code",
   "execution_count": 7,
   "id": "1b8fb781-ebbe-41ad-88c4-a15f3ae24a9b",
   "metadata": {},
   "outputs": [
    {
     "name": "stdout",
     "output_type": "stream",
     "text": [
      "9\n"
     ]
    }
   ],
   "source": [
    "print(z)"
   ]
  },
  {
   "cell_type": "code",
   "execution_count": null,
   "id": "e0ecb8af-be5e-4639-bb01-6b8569252d6d",
   "metadata": {},
   "outputs": [],
   "source": [
    "Rule-1: No space in variable name"
   ]
  },
  {
   "cell_type": "code",
   "execution_count": 11,
   "id": "48531f43-f1d9-4a7f-a6d8-f3d7cbfbcca2",
   "metadata": {},
   "outputs": [
    {
     "ename": "SyntaxError",
     "evalue": "invalid syntax (1812314757.py, line 1)",
     "output_type": "error",
     "traceback": [
      "\u001b[1;36m  Cell \u001b[1;32mIn[11], line 1\u001b[1;36m\u001b[0m\n\u001b[1;33m    first name = 'Mohamed'\u001b[0m\n\u001b[1;37m          ^\u001b[0m\n\u001b[1;31mSyntaxError\u001b[0m\u001b[1;31m:\u001b[0m invalid syntax\n"
     ]
    }
   ],
   "source": [
    "first name = 'Mohamed'\n",
    "print(first name)"
   ]
  },
  {
   "cell_type": "code",
   "execution_count": 13,
   "id": "d133e712-e396-4a5c-84d5-11832c978c7d",
   "metadata": {},
   "outputs": [
    {
     "name": "stdout",
     "output_type": "stream",
     "text": [
      "Mohamed\n"
     ]
    }
   ],
   "source": [
    "firstName = 'Mohamed'\n",
    "print(firstName)"
   ]
  },
  {
   "cell_type": "code",
   "execution_count": null,
   "id": "cab682d9-ab5f-43ec-8317-7cd07c446ac5",
   "metadata": {},
   "outputs": [],
   "source": [
    "Rule-2: No variable name start with number"
   ]
  },
  {
   "cell_type": "code",
   "execution_count": 15,
   "id": "81defebc-bad0-4d89-a3e8-bc426b217a4e",
   "metadata": {},
   "outputs": [
    {
     "ename": "SyntaxError",
     "evalue": "invalid decimal literal (3480236253.py, line 1)",
     "output_type": "error",
     "traceback": [
      "\u001b[1;36m  Cell \u001b[1;32mIn[15], line 1\u001b[1;36m\u001b[0m\n\u001b[1;33m    1name = 'Mohamed'\u001b[0m\n\u001b[1;37m    ^\u001b[0m\n\u001b[1;31mSyntaxError\u001b[0m\u001b[1;31m:\u001b[0m invalid decimal literal\n"
     ]
    }
   ],
   "source": [
    "1name = 'Mohamed'\n",
    "print(1name)"
   ]
  },
  {
   "cell_type": "code",
   "execution_count": null,
   "id": "51b914ca-84bf-45a1-ac16-96043faeeebb",
   "metadata": {},
   "outputs": [],
   "source": [
    "Rule-3: No Special characters un var name"
   ]
  },
  {
   "cell_type": "code",
   "execution_count": 17,
   "id": "c0d06f0c-02ea-41f1-b3a6-a37efb0421b8",
   "metadata": {},
   "outputs": [
    {
     "ename": "SyntaxError",
     "evalue": "invalid syntax (192015490.py, line 1)",
     "output_type": "error",
     "traceback": [
      "\u001b[1;36m  Cell \u001b[1;32mIn[17], line 1\u001b[1;36m\u001b[0m\n\u001b[1;33m    name@ = 'Mohamed'\u001b[0m\n\u001b[1;37m          ^\u001b[0m\n\u001b[1;31mSyntaxError\u001b[0m\u001b[1;31m:\u001b[0m invalid syntax\n"
     ]
    }
   ],
   "source": [
    "name@ = 'Mohamed'\n",
    "print(name@)"
   ]
  },
  {
   "cell_type": "code",
   "execution_count": null,
   "id": "0914a822-4296-4d60-b4cf-b73a7be641fc",
   "metadata": {},
   "outputs": [],
   "source": [
    "Introduction to Datatypes:"
   ]
  },
  {
   "cell_type": "code",
   "execution_count": null,
   "id": "2fbf5d45-d884-493c-9c63-dc21bedd6f13",
   "metadata": {},
   "outputs": [],
   "source": [
    "String ==> str\n",
    "Numbers ==> (Integer - int)\n",
    "floats ==> (decimal 0.1, 0.2...)\n",
    "Lists ==> list\n",
    "tuples ==> tuple\n",
    "Dictionaries ==> dict"
   ]
  },
  {
   "cell_type": "code",
   "execution_count": null,
   "id": "fe7d1eca-0806-4158-a531-1e59f6f56d56",
   "metadata": {},
   "outputs": [],
   "source": []
  },
  {
   "cell_type": "code",
   "execution_count": null,
   "id": "221fd7a0-72f1-4658-804c-be2997776256",
   "metadata": {},
   "outputs": [],
   "source": [
    "Classification of Datatypes:"
   ]
  },
  {
   "cell_type": "code",
   "execution_count": null,
   "id": "87c1e642-6579-4190-9820-b10d450cc272",
   "metadata": {},
   "outputs": [],
   "source": [
    "There are 2 Categories:\n",
    "    Mutable Datatype ==> we can edit / alter ==> flexible in nature\n",
    "    Immutable Datatype ==> we cannot edit / alter ==> Fixed in nature"
   ]
  },
  {
   "cell_type": "code",
   "execution_count": null,
   "id": "f5eb1e9a-c6fa-4634-a4af-b566f21d30b3",
   "metadata": {},
   "outputs": [],
   "source": []
  },
  {
   "cell_type": "code",
   "execution_count": null,
   "id": "4d6e9d2a-b3ac-4da1-a4c0-da42de312788",
   "metadata": {},
   "outputs": [],
   "source": [
    "Introduction to string datatype:"
   ]
  },
  {
   "cell_type": "code",
   "execution_count": null,
   "id": "1c1c50cf-e45b-4d20-a495-5a195a2da5cd",
   "metadata": {},
   "outputs": [],
   "source": [
    "Defination: A string is a series of characters declared in quotes.\n",
    "Classification: Classified as Mutalble Datatype\n",
    "Declaration: ' ' , \" \""
   ]
  },
  {
   "cell_type": "code",
   "execution_count": null,
   "id": "68d2d6af-af6b-4396-b3ed-de737c861d07",
   "metadata": {},
   "outputs": [],
   "source": [
    "Introduction to String methods:"
   ]
  },
  {
   "cell_type": "code",
   "execution_count": 19,
   "id": "c99a487a-0338-4920-beab-95b5ebf6a578",
   "metadata": {},
   "outputs": [
    {
     "data": {
      "text/plain": [
       "str"
      ]
     },
     "execution_count": 19,
     "metadata": {},
     "output_type": "execute_result"
    }
   ],
   "source": [
    "type(firstName)"
   ]
  },
  {
   "cell_type": "code",
   "execution_count": 21,
   "id": "19b3cfff-26ac-4a18-b5fc-435401bb2052",
   "metadata": {},
   "outputs": [
    {
     "name": "stdout",
     "output_type": "stream",
     "text": [
      "mohamed\n"
     ]
    }
   ],
   "source": [
    "fullname = 'mohamed'\n",
    "print(fullname)"
   ]
  },
  {
   "cell_type": "code",
   "execution_count": null,
   "id": "80290ba4-4ab6-4577-8823-bbc301fc44a4",
   "metadata": {},
   "outputs": [],
   "source": [
    "#Fullname in correct format"
   ]
  },
  {
   "cell_type": "code",
   "execution_count": 25,
   "id": "7b3ff7d4-375a-4af0-8342-4bcb121d6b82",
   "metadata": {},
   "outputs": [
    {
     "name": "stdout",
     "output_type": "stream",
     "text": [
      "Mohamed\n"
     ]
    }
   ],
   "source": [
    "print(fullname.title())"
   ]
  },
  {
   "cell_type": "code",
   "execution_count": 27,
   "id": "8553f4b2-011e-46dc-b764-849c309c7af5",
   "metadata": {},
   "outputs": [
    {
     "name": "stdout",
     "output_type": "stream",
     "text": [
      "MOHAMED\n"
     ]
    }
   ],
   "source": [
    "print(fullname.upper())"
   ]
  },
  {
   "cell_type": "code",
   "execution_count": 29,
   "id": "843bdcd1-08a7-4573-9adf-40b3653bf599",
   "metadata": {},
   "outputs": [
    {
     "name": "stdout",
     "output_type": "stream",
     "text": [
      "mohamed\n"
     ]
    }
   ],
   "source": [
    "print(fullname.lower())"
   ]
  },
  {
   "cell_type": "code",
   "execution_count": null,
   "id": "fd594abd-73c6-4455-9a40-ead8ca5e90cd",
   "metadata": {},
   "outputs": [],
   "source": []
  },
  {
   "cell_type": "code",
   "execution_count": null,
   "id": "6516bda3-c30f-4af3-b214-6ffef4f4bce8",
   "metadata": {},
   "outputs": [],
   "source": []
  },
  {
   "cell_type": "code",
   "execution_count": null,
   "id": "ad6c7bc3-ee32-48e3-96d0-0e8b98df5985",
   "metadata": {},
   "outputs": [],
   "source": []
  },
  {
   "cell_type": "code",
   "execution_count": null,
   "id": "9253ac10-6b21-4242-a8fd-1aff16b79a09",
   "metadata": {},
   "outputs": [],
   "source": []
  },
  {
   "cell_type": "code",
   "execution_count": null,
   "id": "a3000f79-e1bb-4ee3-a8ff-8db49e88d5bc",
   "metadata": {},
   "outputs": [],
   "source": []
  },
  {
   "cell_type": "code",
   "execution_count": null,
   "id": "8372ee6e-6583-4d31-b71f-da7b9bb8fc7d",
   "metadata": {},
   "outputs": [],
   "source": []
  },
  {
   "cell_type": "code",
   "execution_count": null,
   "id": "f761492f-a045-4c3d-8b03-2583325729a1",
   "metadata": {},
   "outputs": [],
   "source": []
  },
  {
   "cell_type": "code",
   "execution_count": null,
   "id": "f3b13360-2772-472c-8167-538a8d09295d",
   "metadata": {},
   "outputs": [],
   "source": []
  },
  {
   "cell_type": "code",
   "execution_count": null,
   "id": "3c0f81f6-2940-4b5f-b5db-ef1bc7172e3b",
   "metadata": {},
   "outputs": [],
   "source": []
  }
 ],
 "metadata": {
  "kernelspec": {
   "display_name": "Python 3 (ipykernel)",
   "language": "python",
   "name": "python3"
  },
  "language_info": {
   "codemirror_mode": {
    "name": "ipython",
    "version": 3
   },
   "file_extension": ".py",
   "mimetype": "text/x-python",
   "name": "python",
   "nbconvert_exporter": "python",
   "pygments_lexer": "ipython3",
   "version": "3.12.4"
  }
 },
 "nbformat": 4,
 "nbformat_minor": 5
}
