{
 "cells": [
  {
   "cell_type": "code",
   "execution_count": null,
   "id": "f3525932-8286-43ea-85e0-987e7256f2e9",
   "metadata": {},
   "outputs": [],
   "source": [
    "Introduction to Looping statements:"
   ]
  },
  {
   "cell_type": "code",
   "execution_count": null,
   "id": "4f6f1958-6b97-49ee-b522-a90cfdf9149b",
   "metadata": {},
   "outputs": [],
   "source": [
    "#for loop:"
   ]
  },
  {
   "cell_type": "code",
   "execution_count": null,
   "id": "34220218-c955-4c75-9130-8deb08733cbb",
   "metadata": {},
   "outputs": [],
   "source": [
    "#General syntax of For loop:"
   ]
  },
  {
   "cell_type": "code",
   "execution_count": null,
   "id": "6daaeb7d-1ec1-4598-b96f-ce3b5b07c300",
   "metadata": {},
   "outputs": [],
   "source": [
    "for tempvar in mainvar:\n",
    "    print(tempvar)"
   ]
  },
  {
   "cell_type": "code",
   "execution_count": 9,
   "id": "fbca910b-dd72-4ddb-9425-d1f38b52b0e9",
   "metadata": {},
   "outputs": [
    {
     "name": "stdout",
     "output_type": "stream",
     "text": [
      "['jega', 'tamil', 'saf', 'kaavs', 'siva', 'irsa']\n"
     ]
    }
   ],
   "source": [
    "students = ['jega', 'tamil', 'saf', 'kaavs', 'siva', 'irsa']\n",
    "print(students)"
   ]
  },
  {
   "cell_type": "code",
   "execution_count": 23,
   "id": "1d5f0ca1-d487-4f4e-9d71-4c74a0e5bce2",
   "metadata": {},
   "outputs": [
    {
     "name": "stdout",
     "output_type": "stream",
     "text": [
      "Come on! Tamil, You're here!\n"
     ]
    }
   ],
   "source": [
    "print(f\"Come on! {students[1].title()}, You're here!\")"
   ]
  },
  {
   "cell_type": "code",
   "execution_count": 25,
   "id": "ef62f265-cd6a-41ee-a301-9e6a5f7f1cc4",
   "metadata": {},
   "outputs": [
    {
     "name": "stdout",
     "output_type": "stream",
     "text": [
      "Come on! Jega, You're here!\n",
      "Come on! Tamil, You're here!\n",
      "Come on! Saf, You're here!\n",
      "Come on! Kaavs, You're here!\n",
      "Come on! Siva, You're here!\n",
      "Come on! Irsa, You're here!\n"
     ]
    }
   ],
   "source": [
    "for student in students:\n",
    "    print(f\"Come on! {student.title()}, You're here!\")"
   ]
  },
  {
   "cell_type": "code",
   "execution_count": null,
   "id": "857da920-c1a9-4ca7-94d4-a70c96493e08",
   "metadata": {},
   "outputs": [],
   "source": [
    "#Note: Indentation is important in Python"
   ]
  },
  {
   "cell_type": "code",
   "execution_count": 29,
   "id": "a2b8780d-2918-40e9-a42f-71e5da4d87b2",
   "metadata": {},
   "outputs": [
    {
     "name": "stdout",
     "output_type": "stream",
     "text": [
      "Come on! Jega, You're here!\n",
      "\n",
      "Come on! Tamil, You're here!\n",
      "\n",
      "Come on! Saf, You're here!\n",
      "\n",
      "Come on! Kaavs, You're here!\n",
      "\n",
      "Come on! Siva, You're here!\n",
      "\n",
      "Come on! Irsa, You're here!\n",
      "\n",
      "Thanks for coming :)\n"
     ]
    }
   ],
   "source": [
    "for student in students:\n",
    "    print(f\"Come on! {student.title()}, You're here!\\n\")\n",
    "print('Thanks for coming :)')"
   ]
  }
 ],
 "metadata": {
  "kernelspec": {
   "display_name": "Python 3 (ipykernel)",
   "language": "python",
   "name": "python3"
  },
  "language_info": {
   "codemirror_mode": {
    "name": "ipython",
    "version": 3
   },
   "file_extension": ".py",
   "mimetype": "text/x-python",
   "name": "python",
   "nbconvert_exporter": "python",
   "pygments_lexer": "ipython3",
   "version": "3.12.4"
  }
 },
 "nbformat": 4,
 "nbformat_minor": 5
}
