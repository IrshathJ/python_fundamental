{
 "cells": [
  {
   "cell_type": "code",
   "execution_count": null,
   "id": "6a939ed5-7809-49b7-bf75-e41b565948fe",
   "metadata": {},
   "outputs": [],
   "source": [
    "Organising List datatype"
   ]
  },
  {
   "cell_type": "code",
   "execution_count": 1,
   "id": "71e3c37a-a0dc-464f-aabf-a74b72f7c79d",
   "metadata": {},
   "outputs": [
    {
     "name": "stdout",
     "output_type": "stream",
     "text": [
      "['maruti', 'bmw', 'balero', 'audi', 'thar']\n"
     ]
    }
   ],
   "source": [
    "car = ['maruti', 'bmw', 'balero', 'audi', 'thar']\n",
    "print(car)"
   ]
  },
  {
   "cell_type": "code",
   "execution_count": null,
   "id": "2a17efa5-d753-4a71-be2b-c09944425b62",
   "metadata": {},
   "outputs": [],
   "source": [
    "#A-Z Order"
   ]
  },
  {
   "cell_type": "code",
   "execution_count": null,
   "id": "6b09017a-71a0-43b1-9bbb-231c777b1430",
   "metadata": {},
   "outputs": [],
   "source": [
    "2 Aproches: \n",
    "    1. Temp Approach - sorted ==> Original Order remain same\n",
    "    2. Permanent Approach - sort ==> Changes applied permanently"
   ]
  },
  {
   "cell_type": "code",
   "execution_count": 7,
   "id": "d041403c-4cfa-4f79-a8fc-85edb9bf8efa",
   "metadata": {},
   "outputs": [
    {
     "name": "stdout",
     "output_type": "stream",
     "text": [
      "['audi', 'balero', 'bmw', 'maruti', 'thar']\n"
     ]
    }
   ],
   "source": [
    "print(sorted(car))   "
   ]
  },
  {
   "cell_type": "code",
   "execution_count": 9,
   "id": "f1e06464-65fc-4886-8e39-9e6dacba3374",
   "metadata": {},
   "outputs": [
    {
     "name": "stdout",
     "output_type": "stream",
     "text": [
      "['maruti', 'bmw', 'balero', 'audi', 'thar']\n"
     ]
    }
   ],
   "source": [
    "print(car)"
   ]
  },
  {
   "cell_type": "code",
   "execution_count": 11,
   "id": "71073ea7-5936-4f75-a0c7-783d349fd50f",
   "metadata": {},
   "outputs": [],
   "source": [
    "car.sort()"
   ]
  },
  {
   "cell_type": "code",
   "execution_count": 13,
   "id": "8011de40-dd90-4bc2-816f-c1331cca33d5",
   "metadata": {},
   "outputs": [
    {
     "name": "stdout",
     "output_type": "stream",
     "text": [
      "['audi', 'balero', 'bmw', 'maruti', 'thar']\n"
     ]
    }
   ],
   "source": [
    "print(car)"
   ]
  },
  {
   "cell_type": "code",
   "execution_count": 15,
   "id": "c2b4911a-e0be-44e1-ad28-df43040331a1",
   "metadata": {},
   "outputs": [
    {
     "data": {
      "text/plain": [
       "5"
      ]
     },
     "execution_count": 15,
     "metadata": {},
     "output_type": "execute_result"
    }
   ],
   "source": [
    "len(car)"
   ]
  },
  {
   "cell_type": "code",
   "execution_count": 17,
   "id": "78ece2d0-ee6c-4c9e-9c60-b08794b8ee11",
   "metadata": {},
   "outputs": [
    {
     "name": "stdout",
     "output_type": "stream",
     "text": [
      "['thar', 'maruti', 'bmw', 'balero', 'audi']\n"
     ]
    }
   ],
   "source": [
    "car.reverse()\n",
    "print(car)"
   ]
  },
  {
   "cell_type": "code",
   "execution_count": null,
   "id": "413dad07-35be-4754-9b8e-af4d4eb30254",
   "metadata": {},
   "outputs": [],
   "source": [
    "Introduction to Slicing:"
   ]
  },
  {
   "cell_type": "code",
   "execution_count": null,
   "id": "23b80ff9-a9d5-4d04-887a-8c698ba1c4cf",
   "metadata": {},
   "outputs": [],
   "source": [
    "#general syntax:\n",
    "[start_value:stop_value:step_count]"
   ]
  },
  {
   "cell_type": "code",
   "execution_count": null,
   "id": "9ed43a11-2c5a-4c74-9d78-45da099ff385",
   "metadata": {},
   "outputs": [],
   "source": [
    "Note: Last_value/stop_value is always exclusive, to include the stop value we have to increment the "
   ]
  },
  {
   "cell_type": "code",
   "execution_count": 23,
   "id": "78de940a-c618-44b5-8b20-63fa529427d4",
   "metadata": {},
   "outputs": [
    {
     "name": "stdout",
     "output_type": "stream",
     "text": [
      "['siva', 'tamil']\n"
     ]
    }
   ],
   "source": [
    "students = ['siva', 'tamil', 'jega', 'mohamed', 'jeeva', 'kaavs', 'saf', 'rose']\n",
    "print(students[0:2])"
   ]
  },
  {
   "cell_type": "code",
   "execution_count": 26,
   "id": "220f9859-74d6-4adc-86c6-2f5e4eda8b44",
   "metadata": {},
   "outputs": [
    {
     "name": "stdout",
     "output_type": "stream",
     "text": [
      "['mohamed', 'jeeva', 'kaavs']\n"
     ]
    }
   ],
   "source": [
    "print(students[3:6])"
   ]
  },
  {
   "cell_type": "code",
   "execution_count": null,
   "id": "ca91c5e6-512a-41ab-b541-a377deda9a0d",
   "metadata": {},
   "outputs": [],
   "source": [
    "#Implementation of Step"
   ]
  },
  {
   "cell_type": "code",
   "execution_count": 28,
   "id": "6994616e-8284-4afd-b65b-afb0221b00c9",
   "metadata": {},
   "outputs": [
    {
     "name": "stdout",
     "output_type": "stream",
     "text": [
      "['siva', 'jega', 'jeeva', 'saf']\n"
     ]
    }
   ],
   "source": [
    "print(students[0:8:2])"
   ]
  },
  {
   "cell_type": "code",
   "execution_count": 30,
   "id": "0b3589f5-a876-4120-bcea-5de9982f7305",
   "metadata": {},
   "outputs": [
    {
     "name": "stdout",
     "output_type": "stream",
     "text": [
      "['siva', 'mohamed', 'saf']\n"
     ]
    }
   ],
   "source": [
    "print(students[0:8:3])"
   ]
  },
  {
   "cell_type": "code",
   "execution_count": null,
   "id": "bf88d927-9efb-4fa9-9cdc-8fc110ea2f47",
   "metadata": {},
   "outputs": [],
   "source": []
  },
  {
   "cell_type": "code",
   "execution_count": null,
   "id": "1c330cc0-31ba-4392-b294-8eebef333f90",
   "metadata": {},
   "outputs": [],
   "source": [
    "String and list Difference:"
   ]
  },
  {
   "cell_type": "code",
   "execution_count": null,
   "id": "91afb5da-1cb7-49cb-8e88-2bccd87be26e",
   "metadata": {},
   "outputs": [],
   "source": [
    "String:\n",
    "''.\"\"\n",
    "Classification: Immutable"
   ]
  },
  {
   "cell_type": "code",
   "execution_count": null,
   "id": "9db3e5ce-3713-49cd-ab3d-5adb2ab94a7d",
   "metadata": {},
   "outputs": [],
   "source": [
    "list: []\n",
    "classification: mutable datatype ==> edit/modify"
   ]
  },
  {
   "cell_type": "code",
   "execution_count": null,
   "id": "5585af05-da67-4c1a-88b6-7ad95065cf45",
   "metadata": {},
   "outputs": [],
   "source": []
  },
  {
   "cell_type": "code",
   "execution_count": null,
   "id": "198ca20e-b717-4a55-b992-74f70df4135e",
   "metadata": {},
   "outputs": [],
   "source": []
  },
  {
   "cell_type": "code",
   "execution_count": null,
   "id": "d964f967-c907-4746-b5e4-eda19f0ec1a9",
   "metadata": {},
   "outputs": [],
   "source": []
  }
 ],
 "metadata": {
  "kernelspec": {
   "display_name": "Python 3 (ipykernel)",
   "language": "python",
   "name": "python3"
  },
  "language_info": {
   "codemirror_mode": {
    "name": "ipython",
    "version": 3
   },
   "file_extension": ".py",
   "mimetype": "text/x-python",
   "name": "python",
   "nbconvert_exporter": "python",
   "pygments_lexer": "ipython3",
   "version": "3.12.4"
  }
 },
 "nbformat": 4,
 "nbformat_minor": 5
}
